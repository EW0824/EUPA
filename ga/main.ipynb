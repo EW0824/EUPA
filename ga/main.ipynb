{
 "cells": [
  {
   "cell_type": "code",
   "execution_count": 7,
   "metadata": {},
   "outputs": [
    {
     "name": "stdout",
     "output_type": "stream",
     "text": [
      "The autoreload extension is already loaded. To reload it, use:\n",
      "  %reload_ext autoreload\n"
     ]
    }
   ],
   "source": [
    "%load_ext autoreload\n",
    "%autoreload 2"
   ]
  },
  {
   "cell_type": "code",
   "execution_count": 8,
   "metadata": {},
   "outputs": [],
   "source": [
    "# Set the root path as if it's being ran from the project root\n",
    "import sys\n",
    "import os\n",
    "\n",
    "project_root = os.path.abspath(os.path.join(os.getcwd(), os.pardir))\n",
    "if project_root not in sys.path:\n",
    "    sys.path.append(project_root)"
   ]
  },
  {
   "cell_type": "code",
   "execution_count": 9,
   "metadata": {},
   "outputs": [],
   "source": [
    "import pygad\n",
    "import numpy as np\n",
    "import torch\n",
    "import os\n",
    "from ga.fitness import constrained_fitness_func\n",
    "from ga.model import load_model, evaluate_without_perturbation, evaluate_with_perturbation\n",
    "from ga.utils import get_dataloader, visualize_images_batch,visualize_image, visualize_perturbation, compute_pixel_statistics, load_config"
   ]
  },
  {
   "cell_type": "markdown",
   "metadata": {},
   "source": [
    "# Parameters"
   ]
  },
  {
   "cell_type": "code",
   "execution_count": 28,
   "metadata": {},
   "outputs": [],
   "source": [
    "config = load_config()"
   ]
  },
  {
   "cell_type": "code",
   "execution_count": 11,
   "metadata": {},
   "outputs": [],
   "source": [
    "num_generations =num_generations=config[\"ga\"][\"num_generations\"]\n",
    "num_parents_mating=config[\"ga\"][\"num_parents_mating\"]\n",
    "sol_per_pop=config[\"ga\"][\"sol_per_pop\"]\n",
    "init_range_low=config[\"ga\"][\"init_range_low\"]\n",
    "init_range_high=config[\"ga\"][\"init_range_high\"]\n",
    "mutation_percent_genes=config[\"ga\"][\"mutation_percent_genes\"]\n",
    "\n",
    "model_type = config[\"model\"][\"model_type\"]\n",
    "batch_size = config[\"model\"][\"batch_size\"]\n",
    "\n",
    "visualize = config[\"visualization\"][\"visualize\"]\n",
    "visualize_every = config[\"visualization\"][\"visualize_every\"]\n"
   ]
  },
  {
   "cell_type": "markdown",
   "metadata": {},
   "source": [
    "# Model"
   ]
  },
  {
   "cell_type": "code",
   "execution_count": 12,
   "metadata": {},
   "outputs": [],
   "source": [
    "model = load_model(config[\"model\"][\"model_type\"])"
   ]
  },
  {
   "cell_type": "markdown",
   "metadata": {},
   "source": [
    "# Loading"
   ]
  },
  {
   "cell_type": "code",
   "execution_count": 13,
   "metadata": {},
   "outputs": [],
   "source": [
    "# Load\n",
    "project_root = os.path.abspath(os.path.join(os.getcwd(), os.pardir))\n",
    "image_dir = os.path.join(project_root, \"nn/data/imagenet/val\")\n",
    "dataloader = get_dataloader(config[\"model\"][\"batch_size\"], image_dir)\n"
   ]
  },
  {
   "cell_type": "code",
   "execution_count": 14,
   "metadata": {},
   "outputs": [],
   "source": [
    "# Compute the pixel mean and standard deviation for each pixel across the entire dataset - for constrained fitness func\n",
    "pixel_mean, pixel_std = compute_pixel_statistics(dataloader)"
   ]
  },
  {
   "cell_type": "code",
   "execution_count": 15,
   "metadata": {},
   "outputs": [],
   "source": [
    "# First batch\n",
    "input_batch, original_labels = next(iter(dataloader))\n",
    "\n",
    "# Collect top perturbations from each generation\n",
    "top_perturbations = []"
   ]
  },
  {
   "cell_type": "markdown",
   "metadata": {},
   "source": [
    "# GA Config"
   ]
  },
  {
   "cell_type": "code",
   "execution_count": 25,
   "metadata": {},
   "outputs": [],
   "source": [
    "def fitness_wrapper(ga_instance, solution, solution_idx):\n",
    "    return constrained_fitness_func(\n",
    "        ga_instance, solution, solution_idx, pixel_std, model, input_batch, original_labels, config[\"fitness\"][\"pixel_constraint_weight\"], config[\"fitness\"][\"max_perturbation_magnitude\"]\n",
    "    )"
   ]
  },
  {
   "cell_type": "code",
   "execution_count": 26,
   "metadata": {},
   "outputs": [],
   "source": [
    "def on_generation(ga_instance):\n",
    "\n",
    "    print(f\"\\nGeneration {ga_instance.generations_completed} completed with fitness: {ga_instance.last_generation_fitness}\")\n",
    "\n",
    "    input_batch, original_labels = next(iter(dataloader))\n",
    "    print(f\"New batch loaded with first label: {original_labels[0]}\")\n",
    "    \n",
    "    # Print the best fitness for this generation\n",
    "    best_solution, best_solution_fitness, _ = ga_instance.best_solution()\n",
    "    print(f\"Best Fitness = {best_solution_fitness}\\n\")\n",
    "\n",
    "    best_perturbation = torch.tensor(best_solution).float().reshape(input_batch.shape[1:])\n",
    "    top_perturbations.append(best_perturbation)\n",
    "    print(f\"Best perturbation magnitude: {torch.norm(best_perturbation).item()}\")\n",
    "\n",
    "    ########\n",
    "    # VISUALIZATION\n",
    "    ########\n",
    "    if config[\"visualization\"][\"visualize\"] and ga_instance.generations_completed % config[\"visualization\"][\"visualize_every\"] == 0:\n",
    "        print(f\"Visualizing\")\n",
    "        # get the current best perturbation\n",
    "        visualize_images_batch(input_batch, best_perturbation)\n",
    "\n",
    "    # print(f\"Generation {ga_instance.generations_completed}: Current Fitness: Best Fitness = {ga_instance.best_solution()[1]}\")"
   ]
  },
  {
   "cell_type": "code",
   "execution_count": 31,
   "metadata": {},
   "outputs": [
    {
     "name": "stdout",
     "output_type": "stream",
     "text": [
      "Perturbation magnitude after channel-wise clamping: 22.428010940551758\n",
      "Perturbation magnitude after global clamping: 22.428010940551758\n",
      "After applying pixel constraints: 22.428010940551758\n",
      "Perturbation magnitude after channel-wise clamping: 22.33572006225586\n",
      "Perturbation magnitude after global clamping: 22.33572006225586\n",
      "After applying pixel constraints: 22.33572006225586\n",
      "Perturbation magnitude after channel-wise clamping: 22.379501342773438\n",
      "Perturbation magnitude after global clamping: 22.379501342773438\n",
      "After applying pixel constraints: 22.379501342773438\n",
      "Perturbation magnitude after channel-wise clamping: 22.397825241088867\n",
      "Perturbation magnitude after global clamping: 22.397825241088867\n",
      "After applying pixel constraints: 22.397825241088867\n",
      "Perturbation magnitude after channel-wise clamping: 22.384401321411133\n",
      "Perturbation magnitude after global clamping: 22.384401321411133\n",
      "After applying pixel constraints: 22.384401321411133\n",
      "Perturbation magnitude after channel-wise clamping: 22.45305061340332\n",
      "Perturbation magnitude after global clamping: 22.45305061340332\n",
      "After applying pixel constraints: 22.45305061340332\n",
      "Perturbation magnitude after channel-wise clamping: 22.392623901367188\n",
      "Perturbation magnitude after global clamping: 22.392623901367188\n",
      "After applying pixel constraints: 22.392623901367188\n",
      "Perturbation magnitude after channel-wise clamping: 22.461130142211914\n",
      "Perturbation magnitude after global clamping: 22.461130142211914\n",
      "After applying pixel constraints: 22.461130142211914\n",
      "Perturbation magnitude after channel-wise clamping: 22.370052337646484\n",
      "Perturbation magnitude after global clamping: 22.370052337646484\n",
      "After applying pixel constraints: 22.370052337646484\n",
      "Perturbation magnitude after channel-wise clamping: 22.390382766723633\n",
      "Perturbation magnitude after global clamping: 22.390382766723633\n",
      "After applying pixel constraints: 22.390382766723633\n",
      "Perturbation magnitude after channel-wise clamping: 22.461261749267578\n",
      "Perturbation magnitude after global clamping: 22.461261749267578\n",
      "After applying pixel constraints: 22.461261749267578\n",
      "Perturbation magnitude after channel-wise clamping: 22.421056747436523\n",
      "Perturbation magnitude after global clamping: 22.421056747436523\n",
      "After applying pixel constraints: 22.421056747436523\n",
      "Perturbation magnitude after channel-wise clamping: 22.424196243286133\n",
      "Perturbation magnitude after global clamping: 22.424196243286133\n",
      "After applying pixel constraints: 22.424196243286133\n",
      "Perturbation magnitude after channel-wise clamping: 22.40713882446289\n",
      "Perturbation magnitude after global clamping: 22.40713882446289\n",
      "After applying pixel constraints: 22.40713882446289\n",
      "Perturbation magnitude after channel-wise clamping: 22.362537384033203\n",
      "Perturbation magnitude after global clamping: 22.362537384033203\n",
      "After applying pixel constraints: 22.362537384033203\n",
      "Perturbation magnitude after channel-wise clamping: 22.351842880249023\n",
      "Perturbation magnitude after global clamping: 22.351842880249023\n",
      "After applying pixel constraints: 22.351842880249023\n",
      "Perturbation magnitude after channel-wise clamping: 22.412092208862305\n",
      "Perturbation magnitude after global clamping: 22.412092208862305\n",
      "After applying pixel constraints: 22.412092208862305\n",
      "Perturbation magnitude after channel-wise clamping: 22.403966903686523\n",
      "Perturbation magnitude after global clamping: 22.403966903686523\n",
      "After applying pixel constraints: 22.403966903686523\n",
      "Perturbation magnitude after channel-wise clamping: 22.399057388305664\n",
      "Perturbation magnitude after global clamping: 22.399057388305664\n",
      "After applying pixel constraints: 22.399057388305664\n",
      "Perturbation magnitude after channel-wise clamping: 22.407678604125977\n",
      "Perturbation magnitude after global clamping: 22.407678604125977\n",
      "After applying pixel constraints: 22.407678604125977\n",
      "Perturbation magnitude after channel-wise clamping: 60.6061897277832\n",
      "Perturbation magnitude after global clamping: 24.00001335144043\n",
      "After applying pixel constraints: 24.00001335144043\n",
      "Perturbation magnitude after channel-wise clamping: 60.166725158691406\n",
      "Perturbation magnitude after global clamping: 24.0\n",
      "After applying pixel constraints: 24.0\n",
      "Perturbation magnitude after channel-wise clamping: 60.407379150390625\n",
      "Perturbation magnitude after global clamping: 24.000017166137695\n",
      "After applying pixel constraints: 24.000017166137695\n",
      "Perturbation magnitude after channel-wise clamping: 60.71125793457031\n",
      "Perturbation magnitude after global clamping: 24.000011444091797\n",
      "After applying pixel constraints: 24.000011444091797\n",
      "Perturbation magnitude after channel-wise clamping: 60.58293914794922\n",
      "Perturbation magnitude after global clamping: 24.000022888183594\n",
      "After applying pixel constraints: 24.000022888183594\n",
      "Perturbation magnitude after channel-wise clamping: 60.600833892822266\n",
      "Perturbation magnitude after global clamping: 24.00001335144043\n",
      "After applying pixel constraints: 24.00001335144043\n",
      "Perturbation magnitude after channel-wise clamping: 60.11849594116211\n",
      "Perturbation magnitude after global clamping: 24.000009536743164\n",
      "After applying pixel constraints: 24.000009536743164\n",
      "Perturbation magnitude after channel-wise clamping: 60.526554107666016\n",
      "Perturbation magnitude after global clamping: 23.99999237060547\n",
      "After applying pixel constraints: 23.99999237060547\n",
      "Perturbation magnitude after channel-wise clamping: 60.59900665283203\n",
      "Perturbation magnitude after global clamping: 23.999975204467773\n",
      "After applying pixel constraints: 23.999975204467773\n",
      "Perturbation magnitude after channel-wise clamping: 60.31177520751953\n",
      "Perturbation magnitude after global clamping: 24.0000057220459\n",
      "After applying pixel constraints: 24.0000057220459\n",
      "Perturbation magnitude after channel-wise clamping: 60.299888610839844\n",
      "Perturbation magnitude after global clamping: 24.000017166137695\n",
      "After applying pixel constraints: 24.000017166137695\n",
      "Perturbation magnitude after channel-wise clamping: 60.389373779296875\n",
      "Perturbation magnitude after global clamping: 23.999990463256836\n",
      "After applying pixel constraints: 23.999990463256836\n",
      "Perturbation magnitude after channel-wise clamping: 60.41291046142578\n",
      "Perturbation magnitude after global clamping: 24.00002098083496\n",
      "After applying pixel constraints: 24.00002098083496\n",
      "Perturbation magnitude after channel-wise clamping: 60.560306549072266\n",
      "Perturbation magnitude after global clamping: 24.00001335144043\n",
      "After applying pixel constraints: 24.00001335144043\n",
      "Perturbation magnitude after channel-wise clamping: 60.243507385253906\n",
      "Perturbation magnitude after global clamping: 24.00001335144043\n",
      "After applying pixel constraints: 24.00001335144043\n",
      "Perturbation magnitude after channel-wise clamping: 60.359439849853516\n",
      "Perturbation magnitude after global clamping: 24.00000762939453\n",
      "After applying pixel constraints: 24.00000762939453\n",
      "Perturbation magnitude after channel-wise clamping: 60.460758209228516\n",
      "Perturbation magnitude after global clamping: 23.999988555908203\n",
      "After applying pixel constraints: 23.999988555908203\n"
     ]
    },
    {
     "ename": "KeyboardInterrupt",
     "evalue": "",
     "output_type": "error",
     "traceback": [
      "\u001b[0;31m---------------------------------------------------------------------------\u001b[0m",
      "\u001b[0;31mKeyboardInterrupt\u001b[0m                         Traceback (most recent call last)",
      "Cell \u001b[0;32mIn[31], line 14\u001b[0m\n\u001b[1;32m      1\u001b[0m ga_instance \u001b[38;5;241m=\u001b[39m pygad\u001b[38;5;241m.\u001b[39mGA(\n\u001b[1;32m      2\u001b[0m     num_generations\u001b[38;5;241m=\u001b[39mconfig[\u001b[38;5;124m\"\u001b[39m\u001b[38;5;124mga\u001b[39m\u001b[38;5;124m\"\u001b[39m][\u001b[38;5;124m\"\u001b[39m\u001b[38;5;124mnum_generations\u001b[39m\u001b[38;5;124m\"\u001b[39m],\n\u001b[1;32m      3\u001b[0m     num_parents_mating\u001b[38;5;241m=\u001b[39mconfig[\u001b[38;5;124m\"\u001b[39m\u001b[38;5;124mga\u001b[39m\u001b[38;5;124m\"\u001b[39m][\u001b[38;5;124m\"\u001b[39m\u001b[38;5;124mnum_parents_mating\u001b[39m\u001b[38;5;124m\"\u001b[39m],\n\u001b[0;32m   (...)\u001b[0m\n\u001b[1;32m     11\u001b[0m     on_generation\u001b[38;5;241m=\u001b[39mon_generation,\n\u001b[1;32m     12\u001b[0m )\n\u001b[0;32m---> 14\u001b[0m \u001b[43mga_instance\u001b[49m\u001b[38;5;241;43m.\u001b[39;49m\u001b[43mrun\u001b[49m\u001b[43m(\u001b[49m\u001b[43m)\u001b[49m\n",
      "File \u001b[0;32m~/miniforge3/envs/DL/lib/python3.8/site-packages/pygad/pygad.py:1980\u001b[0m, in \u001b[0;36mGA.run\u001b[0;34m(self)\u001b[0m\n\u001b[1;32m   1978\u001b[0m \u001b[38;5;28mself\u001b[39m\u001b[38;5;241m.\u001b[39mprevious_generation_fitness \u001b[38;5;241m=\u001b[39m \u001b[38;5;28mself\u001b[39m\u001b[38;5;241m.\u001b[39mlast_generation_fitness\u001b[38;5;241m.\u001b[39mcopy()\n\u001b[1;32m   1979\u001b[0m \u001b[38;5;66;03m# Measuring the fitness of each chromosome in the population. Save the fitness in the last_generation_fitness attribute.\u001b[39;00m\n\u001b[0;32m-> 1980\u001b[0m \u001b[38;5;28mself\u001b[39m\u001b[38;5;241m.\u001b[39mlast_generation_fitness \u001b[38;5;241m=\u001b[39m \u001b[38;5;28;43mself\u001b[39;49m\u001b[38;5;241;43m.\u001b[39;49m\u001b[43mcal_pop_fitness\u001b[49m\u001b[43m(\u001b[49m\u001b[43m)\u001b[49m\n\u001b[1;32m   1982\u001b[0m best_solution, best_solution_fitness, best_match_idx \u001b[38;5;241m=\u001b[39m \u001b[38;5;28mself\u001b[39m\u001b[38;5;241m.\u001b[39mbest_solution(\n\u001b[1;32m   1983\u001b[0m     pop_fitness\u001b[38;5;241m=\u001b[39m\u001b[38;5;28mself\u001b[39m\u001b[38;5;241m.\u001b[39mlast_generation_fitness)\n\u001b[1;32m   1985\u001b[0m \u001b[38;5;66;03m# Appending the best solution in the current generation to the best_solutions list.\u001b[39;00m\n",
      "File \u001b[0;32m~/miniforge3/envs/DL/lib/python3.8/site-packages/pygad/pygad.py:1708\u001b[0m, in \u001b[0;36mGA.cal_pop_fitness\u001b[0;34m(self)\u001b[0m\n\u001b[1;32m   1705\u001b[0m \u001b[38;5;28;01melse\u001b[39;00m:\n\u001b[1;32m   1706\u001b[0m     \u001b[38;5;66;03m# Check if batch processing is used. If not, then calculate this missing fitness value.\u001b[39;00m\n\u001b[1;32m   1707\u001b[0m     \u001b[38;5;28;01mif\u001b[39;00m \u001b[38;5;28mself\u001b[39m\u001b[38;5;241m.\u001b[39mfitness_batch_size \u001b[38;5;129;01min\u001b[39;00m [\u001b[38;5;241m1\u001b[39m, \u001b[38;5;28;01mNone\u001b[39;00m]:\n\u001b[0;32m-> 1708\u001b[0m         fitness \u001b[38;5;241m=\u001b[39m \u001b[38;5;28;43mself\u001b[39;49m\u001b[38;5;241;43m.\u001b[39;49m\u001b[43mfitness_func\u001b[49m\u001b[43m(\u001b[49m\u001b[38;5;28;43mself\u001b[39;49m\u001b[43m,\u001b[49m\u001b[43m \u001b[49m\u001b[43msol\u001b[49m\u001b[43m,\u001b[49m\u001b[43m \u001b[49m\u001b[43msol_idx\u001b[49m\u001b[43m)\u001b[49m\n\u001b[1;32m   1709\u001b[0m         \u001b[38;5;28;01mif\u001b[39;00m \u001b[38;5;28mtype\u001b[39m(fitness) \u001b[38;5;129;01min\u001b[39;00m GA\u001b[38;5;241m.\u001b[39msupported_int_float_types:\n\u001b[1;32m   1710\u001b[0m             \u001b[38;5;66;03m# The fitness function returns a single numeric value.\u001b[39;00m\n\u001b[1;32m   1711\u001b[0m             \u001b[38;5;66;03m# This is a single-objective optimization problem.\u001b[39;00m\n\u001b[1;32m   1712\u001b[0m             \u001b[38;5;28;01mpass\u001b[39;00m\n",
      "Cell \u001b[0;32mIn[25], line 2\u001b[0m, in \u001b[0;36mfitness_wrapper\u001b[0;34m(ga_instance, solution, solution_idx)\u001b[0m\n\u001b[1;32m      1\u001b[0m \u001b[38;5;28;01mdef\u001b[39;00m \u001b[38;5;21mfitness_wrapper\u001b[39m(ga_instance, solution, solution_idx):\n\u001b[0;32m----> 2\u001b[0m     \u001b[38;5;28;01mreturn\u001b[39;00m \u001b[43mconstrained_fitness_func\u001b[49m\u001b[43m(\u001b[49m\n\u001b[1;32m      3\u001b[0m \u001b[43m        \u001b[49m\u001b[43mga_instance\u001b[49m\u001b[43m,\u001b[49m\u001b[43m \u001b[49m\u001b[43msolution\u001b[49m\u001b[43m,\u001b[49m\u001b[43m \u001b[49m\u001b[43msolution_idx\u001b[49m\u001b[43m,\u001b[49m\u001b[43m \u001b[49m\u001b[43mpixel_std\u001b[49m\u001b[43m,\u001b[49m\u001b[43m \u001b[49m\u001b[43mmodel\u001b[49m\u001b[43m,\u001b[49m\u001b[43m \u001b[49m\u001b[43minput_batch\u001b[49m\u001b[43m,\u001b[49m\u001b[43m \u001b[49m\u001b[43moriginal_labels\u001b[49m\u001b[43m,\u001b[49m\u001b[43m \u001b[49m\u001b[43mpixel_constraint_weight\u001b[49m\u001b[38;5;241;43m=\u001b[39;49m\u001b[43mconfig\u001b[49m\u001b[43m[\u001b[49m\u001b[38;5;124;43m\"\u001b[39;49m\u001b[38;5;124;43mfitness\u001b[39;49m\u001b[38;5;124;43m\"\u001b[39;49m\u001b[43m]\u001b[49m\u001b[43m[\u001b[49m\u001b[38;5;124;43m\"\u001b[39;49m\u001b[38;5;124;43mpixel_constraint_weight\u001b[39;49m\u001b[38;5;124;43m\"\u001b[39;49m\u001b[43m]\u001b[49m\u001b[43m,\u001b[49m\u001b[43m \u001b[49m\u001b[43mmax_perturbation_magnitude\u001b[49m\u001b[38;5;241;43m=\u001b[39;49m\u001b[43mconfig\u001b[49m\u001b[43m[\u001b[49m\u001b[38;5;124;43m\"\u001b[39;49m\u001b[38;5;124;43mfitness\u001b[39;49m\u001b[38;5;124;43m\"\u001b[39;49m\u001b[43m]\u001b[49m\u001b[43m[\u001b[49m\u001b[38;5;124;43m\"\u001b[39;49m\u001b[38;5;124;43mmax_perturbation_magnitude\u001b[39;49m\u001b[38;5;124;43m\"\u001b[39;49m\u001b[43m]\u001b[49m\n\u001b[1;32m      4\u001b[0m \u001b[43m    \u001b[49m\u001b[43m)\u001b[49m\n",
      "File \u001b[0;32m~/Desktop/EUPA/ga/fitness.py:21\u001b[0m, in \u001b[0;36mconstrained_fitness_func\u001b[0;34m(ga_instance, solution, solution_idx, pixel_std, model, input_batch, original_label, pixel_constraint_weight, max_perturbation_magnitude)\u001b[0m\n\u001b[1;32m     18\u001b[0m perturbed_input \u001b[38;5;241m=\u001b[39m torch\u001b[38;5;241m.\u001b[39mclamp(perturbed_input, \u001b[38;5;241m0\u001b[39m, \u001b[38;5;241m1\u001b[39m) \u001b[38;5;66;03m# Ensure the pixel values are between 0 and 1\u001b[39;00m\n\u001b[1;32m     20\u001b[0m \u001b[38;5;66;03m# Get predictions after applying the perturbation\u001b[39;00m\n\u001b[0;32m---> 21\u001b[0m prediction \u001b[38;5;241m=\u001b[39m \u001b[43mpredict\u001b[49m\u001b[43m(\u001b[49m\u001b[43mmodel\u001b[49m\u001b[43m,\u001b[49m\u001b[43m \u001b[49m\u001b[43mperturbed_input\u001b[49m\u001b[43m)\u001b[49m\n\u001b[1;32m     23\u001b[0m \u001b[38;5;66;03m# Calculate fitness based on misclassification likelihood (maximise misclassification)\u001b[39;00m\n\u001b[1;32m     24\u001b[0m misclassification_score \u001b[38;5;241m=\u001b[39m (prediction \u001b[38;5;241m!=\u001b[39m original_label)\u001b[38;5;241m.\u001b[39mfloat()\u001b[38;5;241m.\u001b[39mmean()\u001b[38;5;241m.\u001b[39mitem() \u001b[38;5;66;03m# Get the mean of misclassification\u001b[39;00m\n",
      "File \u001b[0;32m~/Desktop/EUPA/ga/model.py:45\u001b[0m, in \u001b[0;36mpredict\u001b[0;34m(model, input_batch)\u001b[0m\n\u001b[1;32m     43\u001b[0m \u001b[38;5;28;01mdef\u001b[39;00m \u001b[38;5;21mpredict\u001b[39m(model, input_batch):\n\u001b[1;32m     44\u001b[0m     \u001b[38;5;28;01mwith\u001b[39;00m torch\u001b[38;5;241m.\u001b[39mno_grad():\n\u001b[0;32m---> 45\u001b[0m         outputs \u001b[38;5;241m=\u001b[39m \u001b[43mmodel\u001b[49m\u001b[43m(\u001b[49m\u001b[43minput_batch\u001b[49m\u001b[43m)\u001b[49m\n\u001b[1;32m     47\u001b[0m     predicted_labels \u001b[38;5;241m=\u001b[39m outputs\u001b[38;5;241m.\u001b[39margmax(dim\u001b[38;5;241m=\u001b[39m\u001b[38;5;241m1\u001b[39m)\n\u001b[1;32m     48\u001b[0m     \u001b[38;5;28;01mreturn\u001b[39;00m predicted_labels\n",
      "File \u001b[0;32m~/miniforge3/envs/DL/lib/python3.8/site-packages/torch/nn/modules/module.py:1553\u001b[0m, in \u001b[0;36mModule._wrapped_call_impl\u001b[0;34m(self, *args, **kwargs)\u001b[0m\n\u001b[1;32m   1551\u001b[0m     \u001b[38;5;28;01mreturn\u001b[39;00m \u001b[38;5;28mself\u001b[39m\u001b[38;5;241m.\u001b[39m_compiled_call_impl(\u001b[38;5;241m*\u001b[39margs, \u001b[38;5;241m*\u001b[39m\u001b[38;5;241m*\u001b[39mkwargs)  \u001b[38;5;66;03m# type: ignore[misc]\u001b[39;00m\n\u001b[1;32m   1552\u001b[0m \u001b[38;5;28;01melse\u001b[39;00m:\n\u001b[0;32m-> 1553\u001b[0m     \u001b[38;5;28;01mreturn\u001b[39;00m \u001b[38;5;28;43mself\u001b[39;49m\u001b[38;5;241;43m.\u001b[39;49m\u001b[43m_call_impl\u001b[49m\u001b[43m(\u001b[49m\u001b[38;5;241;43m*\u001b[39;49m\u001b[43margs\u001b[49m\u001b[43m,\u001b[49m\u001b[43m \u001b[49m\u001b[38;5;241;43m*\u001b[39;49m\u001b[38;5;241;43m*\u001b[39;49m\u001b[43mkwargs\u001b[49m\u001b[43m)\u001b[49m\n",
      "File \u001b[0;32m~/miniforge3/envs/DL/lib/python3.8/site-packages/torch/nn/modules/module.py:1562\u001b[0m, in \u001b[0;36mModule._call_impl\u001b[0;34m(self, *args, **kwargs)\u001b[0m\n\u001b[1;32m   1557\u001b[0m \u001b[38;5;66;03m# If we don't have any hooks, we want to skip the rest of the logic in\u001b[39;00m\n\u001b[1;32m   1558\u001b[0m \u001b[38;5;66;03m# this function, and just call forward.\u001b[39;00m\n\u001b[1;32m   1559\u001b[0m \u001b[38;5;28;01mif\u001b[39;00m \u001b[38;5;129;01mnot\u001b[39;00m (\u001b[38;5;28mself\u001b[39m\u001b[38;5;241m.\u001b[39m_backward_hooks \u001b[38;5;129;01mor\u001b[39;00m \u001b[38;5;28mself\u001b[39m\u001b[38;5;241m.\u001b[39m_backward_pre_hooks \u001b[38;5;129;01mor\u001b[39;00m \u001b[38;5;28mself\u001b[39m\u001b[38;5;241m.\u001b[39m_forward_hooks \u001b[38;5;129;01mor\u001b[39;00m \u001b[38;5;28mself\u001b[39m\u001b[38;5;241m.\u001b[39m_forward_pre_hooks\n\u001b[1;32m   1560\u001b[0m         \u001b[38;5;129;01mor\u001b[39;00m _global_backward_pre_hooks \u001b[38;5;129;01mor\u001b[39;00m _global_backward_hooks\n\u001b[1;32m   1561\u001b[0m         \u001b[38;5;129;01mor\u001b[39;00m _global_forward_hooks \u001b[38;5;129;01mor\u001b[39;00m _global_forward_pre_hooks):\n\u001b[0;32m-> 1562\u001b[0m     \u001b[38;5;28;01mreturn\u001b[39;00m \u001b[43mforward_call\u001b[49m\u001b[43m(\u001b[49m\u001b[38;5;241;43m*\u001b[39;49m\u001b[43margs\u001b[49m\u001b[43m,\u001b[49m\u001b[43m \u001b[49m\u001b[38;5;241;43m*\u001b[39;49m\u001b[38;5;241;43m*\u001b[39;49m\u001b[43mkwargs\u001b[49m\u001b[43m)\u001b[49m\n\u001b[1;32m   1564\u001b[0m \u001b[38;5;28;01mtry\u001b[39;00m:\n\u001b[1;32m   1565\u001b[0m     result \u001b[38;5;241m=\u001b[39m \u001b[38;5;28;01mNone\u001b[39;00m\n",
      "File \u001b[0;32m~/miniforge3/envs/DL/lib/python3.8/site-packages/torchvision/models/googlenet.py:174\u001b[0m, in \u001b[0;36mGoogLeNet.forward\u001b[0;34m(self, x)\u001b[0m\n\u001b[1;32m    172\u001b[0m \u001b[38;5;28;01mdef\u001b[39;00m \u001b[38;5;21mforward\u001b[39m(\u001b[38;5;28mself\u001b[39m, x: Tensor) \u001b[38;5;241m-\u001b[39m\u001b[38;5;241m>\u001b[39m GoogLeNetOutputs:\n\u001b[1;32m    173\u001b[0m     x \u001b[38;5;241m=\u001b[39m \u001b[38;5;28mself\u001b[39m\u001b[38;5;241m.\u001b[39m_transform_input(x)\n\u001b[0;32m--> 174\u001b[0m     x, aux1, aux2 \u001b[38;5;241m=\u001b[39m \u001b[38;5;28;43mself\u001b[39;49m\u001b[38;5;241;43m.\u001b[39;49m\u001b[43m_forward\u001b[49m\u001b[43m(\u001b[49m\u001b[43mx\u001b[49m\u001b[43m)\u001b[49m\n\u001b[1;32m    175\u001b[0m     aux_defined \u001b[38;5;241m=\u001b[39m \u001b[38;5;28mself\u001b[39m\u001b[38;5;241m.\u001b[39mtraining \u001b[38;5;129;01mand\u001b[39;00m \u001b[38;5;28mself\u001b[39m\u001b[38;5;241m.\u001b[39maux_logits\n\u001b[1;32m    176\u001b[0m     \u001b[38;5;28;01mif\u001b[39;00m torch\u001b[38;5;241m.\u001b[39mjit\u001b[38;5;241m.\u001b[39mis_scripting():\n",
      "File \u001b[0;32m~/miniforge3/envs/DL/lib/python3.8/site-packages/torchvision/models/googlenet.py:118\u001b[0m, in \u001b[0;36mGoogLeNet._forward\u001b[0;34m(self, x)\u001b[0m\n\u001b[1;32m    116\u001b[0m x \u001b[38;5;241m=\u001b[39m \u001b[38;5;28mself\u001b[39m\u001b[38;5;241m.\u001b[39mconv2(x)\n\u001b[1;32m    117\u001b[0m \u001b[38;5;66;03m# N x 64 x 56 x 56\u001b[39;00m\n\u001b[0;32m--> 118\u001b[0m x \u001b[38;5;241m=\u001b[39m \u001b[38;5;28;43mself\u001b[39;49m\u001b[38;5;241;43m.\u001b[39;49m\u001b[43mconv3\u001b[49m\u001b[43m(\u001b[49m\u001b[43mx\u001b[49m\u001b[43m)\u001b[49m\n\u001b[1;32m    119\u001b[0m \u001b[38;5;66;03m# N x 192 x 56 x 56\u001b[39;00m\n\u001b[1;32m    120\u001b[0m x \u001b[38;5;241m=\u001b[39m \u001b[38;5;28mself\u001b[39m\u001b[38;5;241m.\u001b[39mmaxpool2(x)\n",
      "File \u001b[0;32m~/miniforge3/envs/DL/lib/python3.8/site-packages/torch/nn/modules/module.py:1553\u001b[0m, in \u001b[0;36mModule._wrapped_call_impl\u001b[0;34m(self, *args, **kwargs)\u001b[0m\n\u001b[1;32m   1551\u001b[0m     \u001b[38;5;28;01mreturn\u001b[39;00m \u001b[38;5;28mself\u001b[39m\u001b[38;5;241m.\u001b[39m_compiled_call_impl(\u001b[38;5;241m*\u001b[39margs, \u001b[38;5;241m*\u001b[39m\u001b[38;5;241m*\u001b[39mkwargs)  \u001b[38;5;66;03m# type: ignore[misc]\u001b[39;00m\n\u001b[1;32m   1552\u001b[0m \u001b[38;5;28;01melse\u001b[39;00m:\n\u001b[0;32m-> 1553\u001b[0m     \u001b[38;5;28;01mreturn\u001b[39;00m \u001b[38;5;28;43mself\u001b[39;49m\u001b[38;5;241;43m.\u001b[39;49m\u001b[43m_call_impl\u001b[49m\u001b[43m(\u001b[49m\u001b[38;5;241;43m*\u001b[39;49m\u001b[43margs\u001b[49m\u001b[43m,\u001b[49m\u001b[43m \u001b[49m\u001b[38;5;241;43m*\u001b[39;49m\u001b[38;5;241;43m*\u001b[39;49m\u001b[43mkwargs\u001b[49m\u001b[43m)\u001b[49m\n",
      "File \u001b[0;32m~/miniforge3/envs/DL/lib/python3.8/site-packages/torch/nn/modules/module.py:1562\u001b[0m, in \u001b[0;36mModule._call_impl\u001b[0;34m(self, *args, **kwargs)\u001b[0m\n\u001b[1;32m   1557\u001b[0m \u001b[38;5;66;03m# If we don't have any hooks, we want to skip the rest of the logic in\u001b[39;00m\n\u001b[1;32m   1558\u001b[0m \u001b[38;5;66;03m# this function, and just call forward.\u001b[39;00m\n\u001b[1;32m   1559\u001b[0m \u001b[38;5;28;01mif\u001b[39;00m \u001b[38;5;129;01mnot\u001b[39;00m (\u001b[38;5;28mself\u001b[39m\u001b[38;5;241m.\u001b[39m_backward_hooks \u001b[38;5;129;01mor\u001b[39;00m \u001b[38;5;28mself\u001b[39m\u001b[38;5;241m.\u001b[39m_backward_pre_hooks \u001b[38;5;129;01mor\u001b[39;00m \u001b[38;5;28mself\u001b[39m\u001b[38;5;241m.\u001b[39m_forward_hooks \u001b[38;5;129;01mor\u001b[39;00m \u001b[38;5;28mself\u001b[39m\u001b[38;5;241m.\u001b[39m_forward_pre_hooks\n\u001b[1;32m   1560\u001b[0m         \u001b[38;5;129;01mor\u001b[39;00m _global_backward_pre_hooks \u001b[38;5;129;01mor\u001b[39;00m _global_backward_hooks\n\u001b[1;32m   1561\u001b[0m         \u001b[38;5;129;01mor\u001b[39;00m _global_forward_hooks \u001b[38;5;129;01mor\u001b[39;00m _global_forward_pre_hooks):\n\u001b[0;32m-> 1562\u001b[0m     \u001b[38;5;28;01mreturn\u001b[39;00m \u001b[43mforward_call\u001b[49m\u001b[43m(\u001b[49m\u001b[38;5;241;43m*\u001b[39;49m\u001b[43margs\u001b[49m\u001b[43m,\u001b[49m\u001b[43m \u001b[49m\u001b[38;5;241;43m*\u001b[39;49m\u001b[38;5;241;43m*\u001b[39;49m\u001b[43mkwargs\u001b[49m\u001b[43m)\u001b[49m\n\u001b[1;32m   1564\u001b[0m \u001b[38;5;28;01mtry\u001b[39;00m:\n\u001b[1;32m   1565\u001b[0m     result \u001b[38;5;241m=\u001b[39m \u001b[38;5;28;01mNone\u001b[39;00m\n",
      "File \u001b[0;32m~/miniforge3/envs/DL/lib/python3.8/site-packages/torchvision/models/googlenet.py:275\u001b[0m, in \u001b[0;36mBasicConv2d.forward\u001b[0;34m(self, x)\u001b[0m\n\u001b[1;32m    273\u001b[0m x \u001b[38;5;241m=\u001b[39m \u001b[38;5;28mself\u001b[39m\u001b[38;5;241m.\u001b[39mconv(x)\n\u001b[1;32m    274\u001b[0m x \u001b[38;5;241m=\u001b[39m \u001b[38;5;28mself\u001b[39m\u001b[38;5;241m.\u001b[39mbn(x)\n\u001b[0;32m--> 275\u001b[0m \u001b[38;5;28;01mreturn\u001b[39;00m \u001b[43mF\u001b[49m\u001b[38;5;241;43m.\u001b[39;49m\u001b[43mrelu\u001b[49m\u001b[43m(\u001b[49m\u001b[43mx\u001b[49m\u001b[43m,\u001b[49m\u001b[43m \u001b[49m\u001b[43minplace\u001b[49m\u001b[38;5;241;43m=\u001b[39;49m\u001b[38;5;28;43;01mTrue\u001b[39;49;00m\u001b[43m)\u001b[49m\n",
      "File \u001b[0;32m~/miniforge3/envs/DL/lib/python3.8/site-packages/torch/nn/functional.py:1498\u001b[0m, in \u001b[0;36mrelu\u001b[0;34m(input, inplace)\u001b[0m\n\u001b[1;32m   1496\u001b[0m     \u001b[38;5;28;01mreturn\u001b[39;00m handle_torch_function(relu, (\u001b[38;5;28minput\u001b[39m,), \u001b[38;5;28minput\u001b[39m, inplace\u001b[38;5;241m=\u001b[39minplace)\n\u001b[1;32m   1497\u001b[0m \u001b[38;5;28;01mif\u001b[39;00m inplace:\n\u001b[0;32m-> 1498\u001b[0m     result \u001b[38;5;241m=\u001b[39m \u001b[43mtorch\u001b[49m\u001b[38;5;241;43m.\u001b[39;49m\u001b[43mrelu_\u001b[49m\u001b[43m(\u001b[49m\u001b[38;5;28;43minput\u001b[39;49m\u001b[43m)\u001b[49m\n\u001b[1;32m   1499\u001b[0m \u001b[38;5;28;01melse\u001b[39;00m:\n\u001b[1;32m   1500\u001b[0m     result \u001b[38;5;241m=\u001b[39m torch\u001b[38;5;241m.\u001b[39mrelu(\u001b[38;5;28minput\u001b[39m)\n",
      "\u001b[0;31mKeyboardInterrupt\u001b[0m: "
     ]
    }
   ],
   "source": [
    "ga_instance = pygad.GA(\n",
    "    num_generations=config[\"ga\"][\"num_generations\"],\n",
    "    num_parents_mating=config[\"ga\"][\"num_parents_mating\"],\n",
    "    sol_per_pop=config[\"ga\"][\"sol_per_pop\"],\n",
    "    num_genes=3*224*224,\n",
    "    gene_type=float,\n",
    "    init_range_low=config[\"ga\"][\"init_range_low\"],\n",
    "    init_range_high=config[\"ga\"][\"init_range_high\"],\n",
    "    mutation_percent_genes=config[\"ga\"][\"mutation_percent_genes\"],\n",
    "    fitness_func=fitness_wrapper,\n",
    "    on_generation=on_generation,\n",
    ")\n",
    "\n",
    "ga_instance.run()"
   ]
  },
  {
   "cell_type": "code",
   "execution_count": 29,
   "metadata": {},
   "outputs": [
    {
     "data": {
      "text/plain": [
       "torch.Size([64, 3, 224, 224])"
      ]
     },
     "execution_count": 29,
     "metadata": {},
     "output_type": "execute_result"
    }
   ],
   "source": [
    "input_batch.shape"
   ]
  },
  {
   "cell_type": "code",
   "execution_count": 22,
   "metadata": {},
   "outputs": [
    {
     "name": "stdout",
     "output_type": "stream",
     "text": [
      "Best solution fitness: 0.84375\n"
     ]
    }
   ],
   "source": [
    "# After the run\n",
    "solution, solution_fitness, _ = ga_instance.best_solution()\n",
    "print(f\"Best solution fitness: {solution_fitness}\") # Might be the penultimate best fitness??"
   ]
  },
  {
   "cell_type": "markdown",
   "metadata": {},
   "source": [
    "# Calculating Universal Perturbation"
   ]
  },
  {
   "cell_type": "code",
   "execution_count": 25,
   "metadata": {},
   "outputs": [
    {
     "ename": "AttributeError",
     "evalue": "'list' object has no attribute 'shape'",
     "output_type": "error",
     "traceback": [
      "\u001b[0;31m---------------------------------------------------------------------------\u001b[0m",
      "\u001b[0;31mAttributeError\u001b[0m                            Traceback (most recent call last)",
      "Cell \u001b[0;32mIn[25], line 3\u001b[0m\n\u001b[1;32m      1\u001b[0m \u001b[38;5;28;01mif\u001b[39;00m \u001b[38;5;28mlen\u001b[39m(top_perturbations) \u001b[38;5;241m>\u001b[39m \u001b[38;5;241m0\u001b[39m:\n\u001b[1;32m      2\u001b[0m     universal_perturbation \u001b[38;5;241m=\u001b[39m torch\u001b[38;5;241m.\u001b[39mmean(torch\u001b[38;5;241m.\u001b[39mstack(top_perturbations), dim\u001b[38;5;241m=\u001b[39m\u001b[38;5;241m0\u001b[39m)\n\u001b[0;32m----> 3\u001b[0m     \u001b[38;5;28mprint\u001b[39m(universal_perturbation\u001b[38;5;241m.\u001b[39mshape, \u001b[43mtop_perturbations\u001b[49m\u001b[38;5;241;43m.\u001b[39;49m\u001b[43mshape\u001b[49m)\n\u001b[1;32m      4\u001b[0m     \u001b[38;5;28mprint\u001b[39m(\u001b[38;5;124mf\u001b[39m\u001b[38;5;124m\"\u001b[39m\u001b[38;5;124mUniversal perturbation created.\u001b[39m\u001b[38;5;124m\"\u001b[39m)\n\u001b[1;32m      5\u001b[0m     visualize_perturbation(universal_perturbation)\n",
      "\u001b[0;31mAttributeError\u001b[0m: 'list' object has no attribute 'shape'"
     ]
    }
   ],
   "source": [
    "if len(top_perturbations) > 0:\n",
    "    universal_perturbation = torch.mean(torch.stack(top_perturbations), dim=0)\n",
    "    print(universal_perturbation.shape)\n",
    "    print(f\"Universal perturbation created.\")\n",
    "    visualize_perturbation(universal_perturbation)"
   ]
  },
  {
   "cell_type": "markdown",
   "metadata": {},
   "source": [
    "# Metrics"
   ]
  },
  {
   "cell_type": "code",
   "execution_count": null,
   "metadata": {},
   "outputs": [],
   "source": [
    "evaluate_without_perturbation(model, dataloader, universal_perturbation)"
   ]
  },
  {
   "cell_type": "code",
   "execution_count": null,
   "metadata": {},
   "outputs": [],
   "source": [
    "evaluate_with_perturbation(model, dataloader, universal_perturbation)"
   ]
  },
  {
   "cell_type": "code",
   "execution_count": null,
   "metadata": {},
   "outputs": [],
   "source": []
  }
 ],
 "metadata": {
  "kernelspec": {
   "display_name": "DL",
   "language": "python",
   "name": "python3"
  },
  "language_info": {
   "codemirror_mode": {
    "name": "ipython",
    "version": 3
   },
   "file_extension": ".py",
   "mimetype": "text/x-python",
   "name": "python",
   "nbconvert_exporter": "python",
   "pygments_lexer": "ipython3",
   "version": "3.8.19"
  }
 },
 "nbformat": 4,
 "nbformat_minor": 2
}
