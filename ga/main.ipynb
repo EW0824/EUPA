{
 "cells": [
  {
   "cell_type": "code",
   "execution_count": 1,
   "metadata": {},
   "outputs": [],
   "source": [
    "%load_ext autoreload\n",
    "%autoreload 2"
   ]
  },
  {
   "cell_type": "code",
   "execution_count": 3,
   "metadata": {},
   "outputs": [],
   "source": [
    "# Set the root path as if it's being ran from the project root\n",
    "import sys\n",
    "import os\n",
    "\n",
    "project_root = os.path.abspath(os.path.join(os.getcwd(), os.pardir))\n",
    "if project_root not in sys.path:\n",
    "    sys.path.append(project_root)"
   ]
  },
  {
   "cell_type": "code",
   "execution_count": 4,
   "metadata": {},
   "outputs": [],
   "source": [
    "import pygad\n",
    "import numpy as np\n",
    "import torch\n",
    "import os\n",
    "from ga.fitness import constrained_fitness_func\n",
    "from ga.model import load_model, evaluate_without_perturbation, evaluate_with_perturbation\n",
    "from ga.utils import get_dataloader, visualize_image_perturbation,visualize_image_perturbation_batch, visualize_perturbation, compute_pixel_statistics, config"
   ]
  },
  {
   "cell_type": "markdown",
   "metadata": {},
   "source": [
    "# Parameters"
   ]
  },
  {
   "cell_type": "code",
   "execution_count": 5,
   "metadata": {},
   "outputs": [],
   "source": [
    "num_generations =num_generations=config[\"ga\"][\"num_generations\"]\n",
    "num_parents_mating=config[\"ga\"][\"num_parents_mating\"]\n",
    "sol_per_pop=config[\"ga\"][\"sol_per_pop\"]\n",
    "init_range_low=config[\"ga\"][\"init_range_low\"]\n",
    "init_range_high=config[\"ga\"][\"init_range_high\"]\n",
    "mutation_percent_genes=config[\"ga\"][\"mutation_percent_genes\"]\n",
    "\n",
    "model_type = config[\"model\"][\"model_type\"]\n",
    "batch_size = config[\"model\"][\"batch_size\"]\n",
    "\n",
    "visualize = config[\"visualization\"][\"visualize\"]\n",
    "visualize_every = config[\"visualization\"][\"visualize_every\"]\n"
   ]
  },
  {
   "cell_type": "markdown",
   "metadata": {},
   "source": [
    "# Model"
   ]
  },
  {
   "cell_type": "code",
   "execution_count": 6,
   "metadata": {},
   "outputs": [],
   "source": [
    "model = load_model(model_type)"
   ]
  },
  {
   "cell_type": "markdown",
   "metadata": {},
   "source": [
    "# Loading"
   ]
  },
  {
   "cell_type": "code",
   "execution_count": 12,
   "metadata": {},
   "outputs": [],
   "source": [
    "# Load\n",
    "project_root = os.path.abspath(os.path.join(os.getcwd(), os.pardir))\n",
    "image_dir = os.path.join(project_root, \"nn/data/imagenet/val\")\n",
    "dataloader = get_dataloader(batch_size, image_dir)\n"
   ]
  },
  {
   "cell_type": "code",
   "execution_count": 14,
   "metadata": {},
   "outputs": [],
   "source": [
    "# Compute the pixel mean and standard deviation for each pixel across the entire dataset - for constrained fitness func\n",
    "pixel_mean, pixel_std = compute_pixel_statistics(dataloader)"
   ]
  },
  {
   "cell_type": "code",
   "execution_count": 16,
   "metadata": {},
   "outputs": [],
   "source": [
    "# First batch\n",
    "input_batch, original_labels = next(iter(dataloader))\n",
    "\n",
    "# Collect top perturbations from each generation\n",
    "top_perturbations = []"
   ]
  },
  {
   "cell_type": "markdown",
   "metadata": {},
   "source": [
    "# GA Config"
   ]
  },
  {
   "cell_type": "code",
   "execution_count": 17,
   "metadata": {},
   "outputs": [],
   "source": [
    "def fitness_wrapper(ga_instance, solution, solution_idx):\n",
    "    return constrained_fitness_func(\n",
    "        ga_instance, solution, solution_idx, pixel_std, model, input_batch, original_labels\n",
    "    )"
   ]
  },
  {
   "cell_type": "code",
   "execution_count": 26,
   "metadata": {},
   "outputs": [],
   "source": [
    "def on_generation(ga_instance):\n",
    "\n",
    "    print(f\"\\nGeneration {ga_instance.generations_completed} completed with fitness: {ga_instance.last_generation_fitness}\")\n",
    "\n",
    "    input_batch, original_labels = next(iter(dataloader))\n",
    "    print(f\"New batch loaded with first label: {original_labels[0]}\")\n",
    "    \n",
    "    # Print the best fitness for this generation\n",
    "    best_solution, best_solution_fitness, _ = ga_instance.best_solution()\n",
    "    print(f\"Best Fitness = {best_solution_fitness}\\n\")\n",
    "\n",
    "    print(best_solution.shape)\n",
    "\n",
    "\n",
    "    best_perturbation = torch.tensor(best_solution).float().reshape(input_batch.shape)\n",
    "    top_perturbations.append(best_perturbation)\n",
    "    print(f\"Best perturbation magnitude: {torch.norm(best_perturbation).item()}\")\n",
    "\n",
    "    ########\n",
    "    # VISUALIZATION\n",
    "    ########\n",
    "    if visualize and ga_instance.generations_completed % visualize_every == 0:\n",
    "        print(f\"Visualizing\")\n",
    "        # get the current best perturbation\n",
    "        perturbation = torch.tensor(best_solution).float().reshape(input_batch.shape)\n",
    "        visualize_image_perturbation_batch(input_batch, perturbation)\n",
    "\n",
    "    # print(f\"Generation {ga_instance.generations_completed}: Current Fitness: Best Fitness = {ga_instance.best_solution()[1]}\")"
   ]
  },
  {
   "cell_type": "code",
   "execution_count": 27,
   "metadata": {},
   "outputs": [
    {
     "name": "stderr",
     "output_type": "stream",
     "text": [
      "/Users/OAA/miniforge3/envs/DL/lib/python3.8/site-packages/pygad/pygad.py:1139: UserWarning: The 'delay_after_gen' parameter is deprecated starting from PyGAD 3.3.0. To delay or pause the evolution after each generation, assign a callback function/method to the 'on_generation' parameter to adds some time delay.\n",
      "  warnings.warn(\"The 'delay_after_gen' parameter is deprecated starting from PyGAD 3.3.0. To delay or pause the evolution after each generation, assign a callback function/method to the 'on_generation' parameter to adds some time delay.\")\n"
     ]
    },
    {
     "name": "stdout",
     "output_type": "stream",
     "text": [
      "\n",
      "Generation 1 completed with fitness: [0.65625  0.65625  0.640625 0.640625 0.640625 0.671875 0.65625  0.671875\n",
      " 0.65625  0.65625  0.65625  0.609375 0.65625  0.65625  0.671875 0.65625\n",
      " 0.65625  0.640625 0.65625  0.65625 ]\n",
      "New batch loaded with first label: 859\n",
      "Best Fitness = 0.671875\n",
      "\n",
      "(9633792,)\n",
      "Best perturbation magnitude: 593.34033203125\n"
     ]
    },
    {
     "ename": "KeyboardInterrupt",
     "evalue": "",
     "output_type": "error",
     "traceback": [
      "\u001b[0;31m---------------------------------------------------------------------------\u001b[0m",
      "\u001b[0;31mKeyboardInterrupt\u001b[0m                         Traceback (most recent call last)",
      "Cell \u001b[0;32mIn[27], line 14\u001b[0m\n\u001b[1;32m      1\u001b[0m ga_instance \u001b[38;5;241m=\u001b[39m pygad\u001b[38;5;241m.\u001b[39mGA(\n\u001b[1;32m      2\u001b[0m     num_generations\u001b[38;5;241m=\u001b[39mnum_generations,\n\u001b[1;32m      3\u001b[0m     num_parents_mating\u001b[38;5;241m=\u001b[39mnum_parents_mating,\n\u001b[0;32m   (...)\u001b[0m\n\u001b[1;32m     11\u001b[0m     on_generation\u001b[38;5;241m=\u001b[39mon_generation,\n\u001b[1;32m     12\u001b[0m )\n\u001b[0;32m---> 14\u001b[0m \u001b[43mga_instance\u001b[49m\u001b[38;5;241;43m.\u001b[39;49m\u001b[43mrun\u001b[49m\u001b[43m(\u001b[49m\u001b[43m)\u001b[49m\n",
      "File \u001b[0;32m~/miniforge3/envs/DL/lib/python3.8/site-packages/pygad/pygad.py:1967\u001b[0m, in \u001b[0;36mGA.run\u001b[0;34m(self)\u001b[0m\n\u001b[1;32m   1962\u001b[0m \u001b[38;5;28mself\u001b[39m\u001b[38;5;241m.\u001b[39mrun_crossover()\n\u001b[1;32m   1964\u001b[0m \u001b[38;5;66;03m# Call the 'run_mutation()' method to mutate the selected offspring.\u001b[39;00m\n\u001b[1;32m   1965\u001b[0m \u001b[38;5;66;03m# It edits this instance attribute:\u001b[39;00m\n\u001b[1;32m   1966\u001b[0m     \u001b[38;5;66;03m# 1) last_generation_offspring_mutation: A NumPy array of the mutated offspring.\u001b[39;00m\n\u001b[0;32m-> 1967\u001b[0m \u001b[38;5;28;43mself\u001b[39;49m\u001b[38;5;241;43m.\u001b[39;49m\u001b[43mrun_mutation\u001b[49m\u001b[43m(\u001b[49m\u001b[43m)\u001b[49m\n\u001b[1;32m   1969\u001b[0m \u001b[38;5;66;03m# Call the 'run_update_population()' method to update the population after both crossover and mutation operations complete.\u001b[39;00m\n\u001b[1;32m   1970\u001b[0m \u001b[38;5;66;03m# It edits this instance attribute:\u001b[39;00m\n\u001b[1;32m   1971\u001b[0m     \u001b[38;5;66;03m# 1) population: A NumPy array of the population of solutions/chromosomes.\u001b[39;00m\n\u001b[1;32m   1972\u001b[0m \u001b[38;5;28mself\u001b[39m\u001b[38;5;241m.\u001b[39mrun_update_population()\n",
      "File \u001b[0;32m~/miniforge3/envs/DL/lib/python3.8/site-packages/pygad/pygad.py:2276\u001b[0m, in \u001b[0;36mGA.run_mutation\u001b[0;34m(self)\u001b[0m\n\u001b[1;32m   2274\u001b[0m         \u001b[38;5;28;01mraise\u001b[39;00m \u001b[38;5;167;01mTypeError\u001b[39;00m(\u001b[38;5;124mf\u001b[39m\u001b[38;5;124m\"\u001b[39m\u001b[38;5;124mThe output of the mutation step is expected to be of type (numpy.ndarray) but \u001b[39m\u001b[38;5;132;01m{\u001b[39;00m\u001b[38;5;28mtype\u001b[39m(\u001b[38;5;28mself\u001b[39m\u001b[38;5;241m.\u001b[39mlast_generation_offspring_mutation)\u001b[38;5;132;01m}\u001b[39;00m\u001b[38;5;124m found.\u001b[39m\u001b[38;5;124m\"\u001b[39m)\n\u001b[1;32m   2275\u001b[0m \u001b[38;5;28;01melse\u001b[39;00m:\n\u001b[0;32m-> 2276\u001b[0m     \u001b[38;5;28mself\u001b[39m\u001b[38;5;241m.\u001b[39mlast_generation_offspring_mutation \u001b[38;5;241m=\u001b[39m \u001b[38;5;28;43mself\u001b[39;49m\u001b[38;5;241;43m.\u001b[39;49m\u001b[43mmutation\u001b[49m\u001b[43m(\u001b[49m\u001b[38;5;28;43mself\u001b[39;49m\u001b[38;5;241;43m.\u001b[39;49m\u001b[43mlast_generation_offspring_crossover\u001b[49m\u001b[43m)\u001b[49m\n\u001b[1;32m   2278\u001b[0m \u001b[38;5;28;01mif\u001b[39;00m \u001b[38;5;28mself\u001b[39m\u001b[38;5;241m.\u001b[39mlast_generation_offspring_mutation\u001b[38;5;241m.\u001b[39mshape \u001b[38;5;241m!=\u001b[39m (\u001b[38;5;28mself\u001b[39m\u001b[38;5;241m.\u001b[39mnum_offspring, \u001b[38;5;28mself\u001b[39m\u001b[38;5;241m.\u001b[39mnum_genes):\n\u001b[1;32m   2279\u001b[0m     \u001b[38;5;28;01mif\u001b[39;00m \u001b[38;5;28mself\u001b[39m\u001b[38;5;241m.\u001b[39mlast_generation_offspring_mutation\u001b[38;5;241m.\u001b[39mshape[\u001b[38;5;241m0\u001b[39m] \u001b[38;5;241m!=\u001b[39m \u001b[38;5;28mself\u001b[39m\u001b[38;5;241m.\u001b[39mnum_offspring:\n",
      "File \u001b[0;32m~/miniforge3/envs/DL/lib/python3.8/site-packages/pygad/utils/mutation.py:35\u001b[0m, in \u001b[0;36mMutation.random_mutation\u001b[0;34m(self, offspring)\u001b[0m\n\u001b[1;32m     33\u001b[0m         offspring \u001b[38;5;241m=\u001b[39m \u001b[38;5;28mself\u001b[39m\u001b[38;5;241m.\u001b[39mmutation_by_space(offspring)\n\u001b[1;32m     34\u001b[0m     \u001b[38;5;28;01melse\u001b[39;00m:\n\u001b[0;32m---> 35\u001b[0m         offspring \u001b[38;5;241m=\u001b[39m \u001b[38;5;28;43mself\u001b[39;49m\u001b[38;5;241;43m.\u001b[39;49m\u001b[43mmutation_randomly\u001b[49m\u001b[43m(\u001b[49m\u001b[43moffspring\u001b[49m\u001b[43m)\u001b[49m\n\u001b[1;32m     36\u001b[0m \u001b[38;5;28;01melse\u001b[39;00m:\n\u001b[1;32m     37\u001b[0m     \u001b[38;5;66;03m# When the 'mutation_probability' parameter exists (i.e. not None), then it is used in the mutation.\u001b[39;00m\n\u001b[1;32m     38\u001b[0m     \u001b[38;5;28;01mif\u001b[39;00m \u001b[38;5;129;01mnot\u001b[39;00m (\u001b[38;5;28mself\u001b[39m\u001b[38;5;241m.\u001b[39mgene_space \u001b[38;5;129;01mis\u001b[39;00m \u001b[38;5;28;01mNone\u001b[39;00m):\n\u001b[1;32m     39\u001b[0m         \u001b[38;5;66;03m# When the attribute 'gene_space' does not exist (i.e. None), the mutation values are selected randomly based on the continuous range specified by the 2 attributes 'random_mutation_min_val' and 'random_mutation_max_val'.\u001b[39;00m\n",
      "File \u001b[0;32m~/miniforge3/envs/DL/lib/python3.8/site-packages/pygad/utils/mutation.py:345\u001b[0m, in \u001b[0;36mMutation.mutation_randomly\u001b[0;34m(self, offspring)\u001b[0m\n\u001b[1;32m    342\u001b[0m     \u001b[38;5;28;01mif\u001b[39;00m \u001b[38;5;129;01mnot\u001b[39;00m \u001b[38;5;28mself\u001b[39m\u001b[38;5;241m.\u001b[39mgene_type[gene_idx][\u001b[38;5;241m1\u001b[39m] \u001b[38;5;129;01mis\u001b[39;00m \u001b[38;5;28;01mNone\u001b[39;00m:\n\u001b[1;32m    343\u001b[0m         random_value \u001b[38;5;241m=\u001b[39m numpy\u001b[38;5;241m.\u001b[39mround(random_value, \u001b[38;5;28mself\u001b[39m\u001b[38;5;241m.\u001b[39mgene_type[gene_idx][\u001b[38;5;241m1\u001b[39m])\n\u001b[0;32m--> 345\u001b[0m \u001b[43moffspring\u001b[49m\u001b[43m[\u001b[49m\u001b[43moffspring_idx\u001b[49m\u001b[43m,\u001b[49m\u001b[43m \u001b[49m\u001b[43mgene_idx\u001b[49m\u001b[43m]\u001b[49m \u001b[38;5;241m=\u001b[39m random_value\n\u001b[1;32m    347\u001b[0m \u001b[38;5;28;01mif\u001b[39;00m \u001b[38;5;28mself\u001b[39m\u001b[38;5;241m.\u001b[39mallow_duplicate_genes \u001b[38;5;241m==\u001b[39m \u001b[38;5;28;01mFalse\u001b[39;00m:\n\u001b[1;32m    348\u001b[0m     offspring[offspring_idx], _, _ \u001b[38;5;241m=\u001b[39m \u001b[38;5;28mself\u001b[39m\u001b[38;5;241m.\u001b[39msolve_duplicate_genes_randomly(solution\u001b[38;5;241m=\u001b[39moffspring[offspring_idx],\n\u001b[1;32m    349\u001b[0m                                                                          min_val\u001b[38;5;241m=\u001b[39mrange_min,\n\u001b[1;32m    350\u001b[0m                                                                          max_val\u001b[38;5;241m=\u001b[39mrange_max,\n\u001b[1;32m    351\u001b[0m                                                                          mutation_by_replacement\u001b[38;5;241m=\u001b[39m\u001b[38;5;28mself\u001b[39m\u001b[38;5;241m.\u001b[39mmutation_by_replacement,\n\u001b[1;32m    352\u001b[0m                                                                          gene_type\u001b[38;5;241m=\u001b[39m\u001b[38;5;28mself\u001b[39m\u001b[38;5;241m.\u001b[39mgene_type,\n\u001b[1;32m    353\u001b[0m                                                                          num_trials\u001b[38;5;241m=\u001b[39m\u001b[38;5;241m10\u001b[39m)\n",
      "\u001b[0;31mKeyboardInterrupt\u001b[0m: "
     ]
    }
   ],
   "source": [
    "ga_instance = pygad.GA(\n",
    "    num_generations=num_generations,\n",
    "    num_parents_mating=num_parents_mating,\n",
    "    sol_per_pop=sol_per_pop,\n",
    "    num_genes=input_batch.numel(),\n",
    "    gene_type=float,\n",
    "    init_range_low=init_range_low,\n",
    "    init_range_high=init_range_high,\n",
    "    mutation_percent_genes=mutation_percent_genes,\n",
    "    fitness_func=fitness_wrapper,\n",
    "    on_generation=on_generation,\n",
    ")\n",
    "\n",
    "ga_instance.run()"
   ]
  },
  {
   "cell_type": "code",
   "execution_count": 29,
   "metadata": {},
   "outputs": [
    {
     "data": {
      "text/plain": [
       "torch.Size([64, 3, 224, 224])"
      ]
     },
     "execution_count": 29,
     "metadata": {},
     "output_type": "execute_result"
    }
   ],
   "source": [
    "input_batch.shape"
   ]
  },
  {
   "cell_type": "code",
   "execution_count": 22,
   "metadata": {},
   "outputs": [
    {
     "name": "stdout",
     "output_type": "stream",
     "text": [
      "Best solution fitness: 0.84375\n"
     ]
    }
   ],
   "source": [
    "# After the run\n",
    "solution, solution_fitness, _ = ga_instance.best_solution()\n",
    "print(f\"Best solution fitness: {solution_fitness}\") # Might be the penultimate best fitness??"
   ]
  },
  {
   "cell_type": "markdown",
   "metadata": {},
   "source": [
    "# Calculating Universal Perturbation"
   ]
  },
  {
   "cell_type": "code",
   "execution_count": 25,
   "metadata": {},
   "outputs": [
    {
     "ename": "AttributeError",
     "evalue": "'list' object has no attribute 'shape'",
     "output_type": "error",
     "traceback": [
      "\u001b[0;31m---------------------------------------------------------------------------\u001b[0m",
      "\u001b[0;31mAttributeError\u001b[0m                            Traceback (most recent call last)",
      "Cell \u001b[0;32mIn[25], line 3\u001b[0m\n\u001b[1;32m      1\u001b[0m \u001b[38;5;28;01mif\u001b[39;00m \u001b[38;5;28mlen\u001b[39m(top_perturbations) \u001b[38;5;241m>\u001b[39m \u001b[38;5;241m0\u001b[39m:\n\u001b[1;32m      2\u001b[0m     universal_perturbation \u001b[38;5;241m=\u001b[39m torch\u001b[38;5;241m.\u001b[39mmean(torch\u001b[38;5;241m.\u001b[39mstack(top_perturbations), dim\u001b[38;5;241m=\u001b[39m\u001b[38;5;241m0\u001b[39m)\n\u001b[0;32m----> 3\u001b[0m     \u001b[38;5;28mprint\u001b[39m(universal_perturbation\u001b[38;5;241m.\u001b[39mshape, \u001b[43mtop_perturbations\u001b[49m\u001b[38;5;241;43m.\u001b[39;49m\u001b[43mshape\u001b[49m)\n\u001b[1;32m      4\u001b[0m     \u001b[38;5;28mprint\u001b[39m(\u001b[38;5;124mf\u001b[39m\u001b[38;5;124m\"\u001b[39m\u001b[38;5;124mUniversal perturbation created.\u001b[39m\u001b[38;5;124m\"\u001b[39m)\n\u001b[1;32m      5\u001b[0m     visualize_perturbation(universal_perturbation)\n",
      "\u001b[0;31mAttributeError\u001b[0m: 'list' object has no attribute 'shape'"
     ]
    }
   ],
   "source": [
    "if len(top_perturbations) > 0:\n",
    "    universal_perturbation = torch.mean(torch.stack(top_perturbations), dim=0)\n",
    "    print(universal_perturbation.shape)\n",
    "    print(f\"Universal perturbation created.\")\n",
    "    visualize_perturbation(universal_perturbation)"
   ]
  },
  {
   "cell_type": "markdown",
   "metadata": {},
   "source": [
    "# Metrics"
   ]
  },
  {
   "cell_type": "code",
   "execution_count": null,
   "metadata": {},
   "outputs": [],
   "source": [
    "evaluate_without_perturbation(model, dataloader, universal_perturbation)"
   ]
  },
  {
   "cell_type": "code",
   "execution_count": null,
   "metadata": {},
   "outputs": [],
   "source": [
    "evaluate_with_perturbation(model, dataloader, universal_perturbation)"
   ]
  },
  {
   "cell_type": "code",
   "execution_count": null,
   "metadata": {},
   "outputs": [],
   "source": []
  }
 ],
 "metadata": {
  "kernelspec": {
   "display_name": "DL",
   "language": "python",
   "name": "python3"
  },
  "language_info": {
   "codemirror_mode": {
    "name": "ipython",
    "version": 3
   },
   "file_extension": ".py",
   "mimetype": "text/x-python",
   "name": "python",
   "nbconvert_exporter": "python",
   "pygments_lexer": "ipython3",
   "version": "3.8.19"
  }
 },
 "nbformat": 4,
 "nbformat_minor": 2
}
